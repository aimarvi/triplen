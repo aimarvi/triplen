{
 "cells": [
  {
   "cell_type": "code",
   "execution_count": null,
   "id": "0",
   "metadata": {
    "tags": []
   },
   "outputs": [],
   "source": [
    "import os\n",
    "import re\n",
    "import h5py\n",
    "\n",
    "import numpy as np\n",
    "import matplotlib.pyplot as plt\n",
    "import seaborn as sns\n",
    "\n",
    "import scipy.io \n",
    "\n",
    "import utils"
   ]
  },
  {
   "cell_type": "code",
   "execution_count": null,
   "id": "1",
   "metadata": {
    "tags": []
   },
   "outputs": [],
   "source": [
    "datadir = '../datasets/NNN/'\n",
    "fnames = utils.fnames(datadir)\n",
    "\n",
    "for pair in fnames:\n",
    "    gus_fname = os.path.join(datadir, pair[0])\n",
    "    proc_fname = os.path.join(datadir, pair[1])\n",
    "    \n",
    "    proc_data = scipy.io.loadmat(proc_fname)\n",
    "    \n",
    "    print(proc_data.keys())\n",
    "    break"
   ]
  },
  {
   "cell_type": "code",
   "execution_count": null,
   "id": "2",
   "metadata": {
    "tags": []
   },
   "outputs": [],
   "source": [
    "datadir = '../datasets/NNN/'\n",
    "gus_fnames = [f for f in os.listdir(datadir) if re.match(r'^GoodUnit.*\\.mat$', f)]\n",
    "\n",
    "session_num = 0\n",
    "\n",
    "with h5py.File(os.path.join(datadir,  fnames[0][0]), 'r') as f:\n",
    "    # print(f.keys())\n",
    "    ras = f['GoodUnitStrc/Raster']\n",
    "    img_idx = f['meta_data/trial_valid_idx']\n",
    "    psth = f['GoodUnitStrc/response_matrix_img']\n",
    "        \n",
    "    # Dereference all cell elements into a list of np arrays\n",
    "    # Note: use raster[i] instead of raster[i, 0] if it's 1D\n",
    "    raster_npy = [f[ras[i,0]][()] for i in range(ras.shape[0])]\n",
    "    psth_npy = [f[psth[i,0]][()] for i in range(psth.shape[0])]\n",
    "    \n",
    "    # get rid of failed trials (0 image indices)\n",
    "    img_idx = np.array(img_idx)\n",
    "    img_idx = img_idx[img_idx != 0]\n",
    "    \n",
    "    raster = np.stack(raster_npy)\n",
    "    emp_psth = np.stack(psth_npy)\n",
    "\n",
    "# shape is (711, 450, 5720) --> (units, time point, trials)\n",
    "print(raster.shape, emp_psth.shape, img_idx.shape)"
   ]
  },
  {
   "cell_type": "code",
   "execution_count": null,
   "id": "3",
   "metadata": {
    "tags": []
   },
   "outputs": [],
   "source": [
    "# PSTH plot, computed by li\n",
    "# averaged over image repeats, then over all images\n",
    "\n",
    "unit_idx = 0  # first unit\n",
    "\n",
    "t = np.arange(raster.shape[1]) - 50\n",
    "fr = emp_psth.mean(axis=2)[unit_idx]\n",
    "# print(emp_psth.shape, emp_psth.mean(axis=2).shape, emp_psth.mean(axis=2)[0].shape)\n",
    "\n",
    "plt.plot(t, fr)\n",
    "plt.xlabel(\"Time (msec) from stimulus onset\")\n",
    "plt.ylabel(\"Firing rate (Hz)\")\n",
    "plt.title(f\"PSTH for unit {unit_idx}\")"
   ]
  },
  {
   "cell_type": "code",
   "execution_count": null,
   "id": "4",
   "metadata": {
    "tags": []
   },
   "outputs": [],
   "source": [
    "proc_fnames = [f for f in os.listdir(datadir) if re.match(r'^Processed.*\\.mat$', f)]\n",
    "\n",
    "session_num = 0\n",
    "\n",
    "data = loadmat(os.path.join(datadir, proc_fnames[session_num]))\n",
    "f_dprime = data['F_SI']\n",
    "avg_spikes = data['response_basic']"
   ]
  },
  {
   "cell_type": "code",
   "execution_count": null,
   "id": "5",
   "metadata": {
    "tags": []
   },
   "outputs": [],
   "source": [
    "unit_idx = 0  # PSTH for first unit\n",
    "psth = raster[unit_idx].mean(axis=1)  # mean across trials\n",
    "\n",
    "bin_size = 0.02  # 10 ms\n",
    "t = np.arange(raster.shape[1]) * bin_size\n",
    "\n",
    "plt.step(t, psth / bin_size, where='mid')\n",
    "plt.xlabel(\"Time (s) from stimulus onset\")\n",
    "plt.ylabel(\"Firing rate (Hz)\")\n",
    "plt.title(f\"PSTH for unit {unit_idx}\")\n",
    "plt.tight_layout()\n",
    "plt.show()"
   ]
  },
  {
   "cell_type": "code",
   "execution_count": null,
   "id": "6",
   "metadata": {
    "tags": []
   },
   "outputs": [],
   "source": [
    "t = np.arange(raster.shape[1]) - 50\n",
    "emp_psth.mean(axis=2)[0].shape\n",
    "\n",
    "plt.plot(t, emp_psth.mean(axis=2)[0])\n",
    "plt.xlabel(\"Time (msec) from stimulus onset\")\n",
    "plt.ylabel(\"Firing rate (Hz)\")\n",
    "plt.title(f\"PSTH for unit {unit_idx}\")"
   ]
  },
  {
   "cell_type": "code",
   "execution_count": null,
   "id": "7",
   "metadata": {
    "tags": []
   },
   "outputs": [],
   "source": [
    "def mat_struct_to_dict(f, obj):\n",
    "    \"\"\"\n",
    "    Recursively convert HDF5 Matlab structure/group or dataset to nested dicts and numpy arrays.\n",
    "    Automatically dereferences cell arrays and groups.\n",
    "    \"\"\"\n",
    "    result = {}\n",
    "    for key in obj.keys():\n",
    "        item = obj[key]\n",
    "        # If subgroup, recurse\n",
    "        if isinstance(item, h5py.Group):\n",
    "            result[key] = mat_struct_to_dict(f, item)\n",
    "        # If dataset, check if cell array (object refs) or regular array\n",
    "        elif isinstance(item, h5py.Dataset):\n",
    "            # Cell arrays: h5py Datasets where dtype == object or ref\n",
    "            if item.dtype == 'O' or h5py.check_dtype(ref=item.dtype) is not None:\n",
    "                cell_data = []\n",
    "                item = np.squeeze(item)  # optional; you can keep this or not\n",
    "                for idx in np.ndindex(item.shape):\n",
    "                    ref = item[idx]\n",
    "                    if isinstance(ref, (np.ndarray,)):\n",
    "                        ref = ref.item()\n",
    "                    if isinstance(f[ref], h5py.Group):\n",
    "                        arr = mat_struct_to_dict(f, f[ref])\n",
    "                    else:\n",
    "                        arr = f[ref][()]\n",
    "                    cell_data.append(arr)\n",
    "                try:\n",
    "                    cell_data = np.array(cell_data, dtype=object).reshape(item.shape)\n",
    "                except Exception as e:\n",
    "                    print(f'{key} data is ragged or shape is weird: {e}. Returning as a list of arrays.')\n",
    "                result[key] = cell_data\n",
    "            else:\n",
    "                # Standard numeric array (possibly needs squeezing)\n",
    "                result[key] = item[()]\n",
    "    return result\n",
    "\n",
    "def load_mat(filename):\n",
    "    \"\"\"\n",
    "    Load a Matlab -v7.3 (HDF5-format) .mat file, dereference cell arrays, and\n",
    "    return a dict of numpy arrays and nested dicts (for group/structs).\n",
    "    \"\"\"\n",
    "    with h5py.File(filename, 'r') as f:\n",
    "        data = {}\n",
    "        for key in f.keys():\n",
    "            obj = f[key]\n",
    "            if key.startswith('#'):\n",
    "                continue\n",
    "            print(key, type(obj))\n",
    "            if isinstance(obj, h5py.Group):\n",
    "                data[key] = mat_struct_to_dict(f, obj)\n",
    "            elif isinstance(obj, h5py.Dataset):\n",
    "                # Top-level cell array or dataset\n",
    "                if obj.dtype == 'O' or h5py.check_dtype(ref=obj.dtype) is not None:\n",
    "                    cell_data = []\n",
    "                    indices = np.ndindex(obj.shape)\n",
    "                    for idx in indices:\n",
    "                        ref = obj[idx]\n",
    "                        if isinstance(ref, (np.ndarray,)):\n",
    "                            ref = ref.item()\n",
    "                        arr = f[ref][()]\n",
    "                        cell_data.append(arr)\n",
    "                    cell_data = np.array(cell_data, dtype=object).reshape(obj.shape)\n",
    "                    data[key] = cell_data\n",
    "                else:\n",
    "                    data[key] = obj[()]\n",
    "        return data"
   ]
  },
  {
   "cell_type": "code",
   "execution_count": null,
   "id": "8",
   "metadata": {
    "tags": []
   },
   "outputs": [],
   "source": [
    "datadir = '../datasets/NNN/'\n",
    "fname = os.path.join(datadir, fnames[0][0])\n",
    "data = utils.load_mat(fname)"
   ]
  }
 ],
 "metadata": {
  "kernelspec": {
   "display_name": "Python [conda env:dynamics]",
   "language": "python",
   "name": "conda-env-dynamics-py"
  },
  "language_info": {
   "codemirror_mode": {
    "name": "ipython",
    "version": 3
   },
   "file_extension": ".py",
   "mimetype": "text/x-python",
   "name": "python",
   "nbconvert_exporter": "python",
   "pygments_lexer": "ipython3",
   "version": "3.13.7"
  }
 },
 "nbformat": 4,
 "nbformat_minor": 5
}
