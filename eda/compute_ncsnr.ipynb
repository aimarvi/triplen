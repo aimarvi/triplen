{
 "cells": [
  {
   "cell_type": "code",
   "execution_count": null,
   "id": "0",
   "metadata": {
    "tags": []
   },
   "outputs": [],
   "source": [
    "import os\n",
    "import scipy\n",
    "import utils\n",
    "\n",
    "import numpy as np\n",
    "import pandas as pd\n",
    "\n",
    "import seaborn as sns\n",
    "import matplotlib.pyplot as plt"
   ]
  },
  {
   "cell_type": "code",
   "execution_count": null,
   "id": "1",
   "metadata": {
    "tags": []
   },
   "outputs": [],
   "source": [
    "datadir = '../datasets/NNN/'\n",
    "fnames = utils.fnames(datadir)\n",
    "# utils.compute_noise_ceiling(data) # data should be (units, conditions, reps)\n",
    "dat = pd.read_pickle(os.path.join(datadir, 'fr_data.pkl'))"
   ]
  },
  {
   "cell_type": "code",
   "execution_count": null,
   "id": "2",
   "metadata": {
    "tags": []
   },
   "outputs": [],
   "source": [
    "rois = dat['roi'].unique()\n",
    "for roi in rois:\n",
    "    if roi is not None:\n",
    "        if 'Unknown' not in roi:\n",
    "            print(roi) \n",
    "            \n",
    "            roi_data = dat[(dat['roi']==roi)]\n",
    "            \n",
    "\n",
    "            period = 'pre'\n",
    "            \n",
    "            # the array is still ragged\n",
    "            all_pre = list(roi_data[period])\n",
    "            num_units = len(all_pre)\n",
    "            num_images = len(all_pre[0])\n",
    "\n",
    "            # maximum number of reps for a single image\n",
    "            max_reps = max(\n",
    "                len(arr) if hasattr(arr, \"__len__\") else 0\n",
    "                for pre in all_pre\n",
    "                for arr in pre)\n",
    "\n",
    "            # pad with nan\n",
    "            stacked = np.full((num_units, num_images, max_reps), np.nan, dtype=float)\n",
    "            for unit_i, pre in enumerate(all_pre):\n",
    "                for img in range(num_images):\n",
    "                    arr = np.array(pre[img])\n",
    "                    reps_here = len(arr)\n",
    "                    if reps_here > 0:\n",
    "                        stacked[unit_i, img, :reps_here] = arr\n",
    "                        \n",
    "            (noiseceiling, ncsnr, signalvar, noisevar) = utils.compute_noise_ceiling(stacked)\n",
    "            \n",
    "            fig,axes = plt.subplots(1,2)\n",
    "\n",
    "            ax = axes[0]\n",
    "            sns.violinplot(noiseceiling, ax=ax)\n",
    "            ax.set_title(f'{roi} % noise ceiling ({period} period)')\n",
    "\n",
    "            ax = axes[1]\n",
    "            sns.violinplot(ncsnr, ax=ax)\n",
    "            ax.set_ylim(top=4)\n",
    "            ax.set_title('ncsnr')\n",
    "            plt.show()\n"
   ]
  },
  {
   "cell_type": "code",
   "execution_count": null,
   "id": "3",
   "metadata": {
    "tags": []
   },
   "outputs": [],
   "source": [
    "roi = 'MF1_9_F' #'MF1_9_F'\n",
    "roi_data = dat[(dat['roi']==roi)]\n",
    "\n",
    "period = 'pre'\n",
    "\n",
    "# the array is still ragged\n",
    "all_pre = list(roi_data[period])\n",
    "num_units = len(all_pre)\n",
    "num_images = len(all_pre[0])\n",
    "\n",
    "# maximum number of reps for a single image\n",
    "max_reps = max(\n",
    "    len(arr) if hasattr(arr, \"__len__\") else 0\n",
    "    for pre in all_pre\n",
    "    for arr in pre)\n",
    "\n",
    "# pad with nan\n",
    "stacked = np.full((num_units, num_images, max_reps), np.nan, dtype=float)\n",
    "for unit_i, pre in enumerate(all_pre):\n",
    "    for img in range(num_images):\n",
    "        arr = np.array(pre[img])\n",
    "        reps_here = len(arr)\n",
    "        if reps_here > 0:\n",
    "            stacked[unit_i, img, :reps_here] = arr\n",
    "            \n",
    "print(stacked.shape) # (units, conditions, trials)"
   ]
  },
  {
   "cell_type": "code",
   "execution_count": null,
   "id": "4",
   "metadata": {
    "tags": []
   },
   "outputs": [],
   "source": [
    "(noiseceiling, ncsnr, signalvar, noisevar) = utils.compute_noise_ceiling(stacked)"
   ]
  },
  {
   "cell_type": "code",
   "execution_count": null,
   "id": "5",
   "metadata": {
    "tags": []
   },
   "outputs": [],
   "source": [
    "fig,axes = plt.subplots(1,2)\n",
    "\n",
    "ax = axes[0]\n",
    "sns.violinplot(noiseceiling, ax=ax)\n",
    "ax.set_title(f'% noise ceiling ({period} period)')\n",
    "\n",
    "ax = axes[1]\n",
    "sns.violinplot(ncsnr, ax=ax)\n",
    "ax.set_ylim(top=4)\n",
    "ax.set_title('ncsnr')"
   ]
  }
 ],
 "metadata": {
  "kernelspec": {
   "display_name": "Python [conda env:dynamics]",
   "language": "python",
   "name": "conda-env-dynamics-py"
  },
  "language_info": {
   "codemirror_mode": {
    "name": "ipython",
    "version": 3
   },
   "file_extension": ".py",
   "mimetype": "text/x-python",
   "name": "python",
   "nbconvert_exporter": "python",
   "pygments_lexer": "ipython3",
   "version": "3.13.7"
  }
 },
 "nbformat": 4,
 "nbformat_minor": 5
}
