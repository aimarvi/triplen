{
 "cells": [
  {
   "cell_type": "code",
   "execution_count": null,
   "id": "0",
   "metadata": {
    "tags": []
   },
   "outputs": [],
   "source": [
    "import os\n",
    "import re\n",
    "import random\n",
    "import numpy as np\n",
    "import pandas as pd\n",
    "import scipy.io\n",
    "from scipy.cluster.hierarchy import linkage, dendrogram\n",
    "from scipy.spatial.distance import pdist, squareform\n",
    "from sklearn.manifold import MDS\n",
    "from sklearn.decomposition import PCA\n",
    "\n",
    "import matplotlib.pyplot as plt\n",
    "import seaborn as sns\n",
    "\n",
    "from tqdm import tqdm\n",
    "\n",
    "import utils"
   ]
  },
  {
   "cell_type": "code",
   "execution_count": null,
   "id": "1",
   "metadata": {
    "tags": []
   },
   "outputs": [],
   "source": [
    "datadir = '../datasets/NNN/'\n",
    "fnames = utils.fnames(datadir)\n",
    "raster_data = pd.read_pickle(os.path.join(datadir, ('unit_data_full.pkl')))\n",
    "fr_data = pd.read_pickle(os.path.join(datadir, 'fr_data.pkl'))"
   ]
  },
  {
   "cell_type": "code",
   "execution_count": null,
   "id": "2",
   "metadata": {
    "tags": []
   },
   "outputs": [],
   "source": [
    "raster_data['roi'].unique()"
   ]
  },
  {
   "cell_type": "code",
   "execution_count": null,
   "id": "3",
   "metadata": {
    "tags": []
   },
   "outputs": [],
   "source": [
    "metric = 'correlation'\n",
    "roi = 'CLC3_13_O' # 'MF1_9_F', 'PITP4_10_O', 'CLC3_13_O'\n",
    "\n",
    "roi_data = raster_data[(raster_data['roi']==roi)]\n",
    "stacked = np.stack(roi_data['img_psth'])\n",
    "\n",
    "fr_roi = fr_data[(fr_data['roi']==roi)]\n",
    "out = utils.derag_fr(fr_roi, period='early')"
   ]
  },
  {
   "cell_type": "code",
   "execution_count": null,
   "id": "4",
   "metadata": {
    "tags": []
   },
   "outputs": [],
   "source": [
    "# calculate the mean firing rate across trials for each unit, image\n",
    "mean_firing = out.mean(axis=2)\n",
    "\n",
    "# sort by mean_firing for each unit\n",
    "sort_indices = np.argsort(mean_firing, axis=1)[:, ::-1]\n",
    "\n",
    "# broadcast to shape (units, 1, images)\n",
    "sort_indices_expanded = sort_indices[:, np.newaxis, :]\n",
    "\n",
    "stacked_sorted = np.take_along_axis(stacked, sort_indices_expanded, axis=2)"
   ]
  },
  {
   "cell_type": "code",
   "execution_count": null,
   "id": "5",
   "metadata": {
    "tags": []
   },
   "outputs": [],
   "source": [
    "topn = 100\n",
    "\n",
    "# plot time x time\n",
    "substacked = stacked_sorted[:, :, :topn]\n",
    "# average over units\n",
    "averaged = np.mean(substacked, axis=0)\n",
    "\n",
    "fig,ax = plt.subplots(1,1)\n",
    "\n",
    "rdm = squareform(pdist(averaged, metric=metric))\n",
    "sns.heatmap(rdm, cmap=sns.color_palette('Greys_r', as_cmap=True), vmax=1.5)\n",
    "ax.set_title(f'{roi}: top {topn} nsd')\n",
    "\n",
    "ax.axvline(x=50, color='red', linestyle='--', linewidth=1)\n",
    "ax.axhline(y=50, color='red', linestyle='--', linewidth=1)\n",
    "plt.show()"
   ]
  }
 ],
 "metadata": {
  "kernelspec": {
   "display_name": "Python [conda env:dynamics]",
   "language": "python",
   "name": "conda-env-dynamics-py"
  },
  "language_info": {
   "codemirror_mode": {
    "name": "ipython",
    "version": 3
   },
   "file_extension": ".py",
   "mimetype": "text/x-python",
   "name": "python",
   "nbconvert_exporter": "python",
   "pygments_lexer": "ipython3",
   "version": "3.13.7"
  }
 },
 "nbformat": 4,
 "nbformat_minor": 5
}
