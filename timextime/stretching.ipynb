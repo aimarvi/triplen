{
 "cells": [
  {
   "cell_type": "code",
   "execution_count": null,
   "id": "0",
   "metadata": {
    "tags": []
   },
   "outputs": [],
   "source": [
    "import os\n",
    "import re\n",
    "import h5py\n",
    "import random\n",
    "import numpy as np\n",
    "import pandas as pd\n",
    "import scipy.io\n",
    "from scipy.cluster.hierarchy import linkage, dendrogram\n",
    "from scipy.spatial.distance import pdist, squareform\n",
    "from sklearn.manifold import MDS\n",
    "from sklearn.decomposition import PCA\n",
    "\n",
    "import matplotlib.pyplot as plt\n",
    "import seaborn as sns\n",
    "\n",
    "from tqdm import tqdm\n",
    "\n",
    "import utils"
   ]
  },
  {
   "cell_type": "code",
   "execution_count": null,
   "id": "1",
   "metadata": {
    "tags": []
   },
   "outputs": [],
   "source": [
    "datadir = '../datasets/NNN/'\n",
    "fnames = utils.fnames(datadir)\n",
    "raster_data = pd.read_pickle(os.path.join(datadir, ('unit_data_full.pkl')))"
   ]
  },
  {
   "cell_type": "code",
   "execution_count": null,
   "id": "2",
   "metadata": {
    "tags": []
   },
   "outputs": [],
   "source": [
    "labels = pd.read_csv(os.path.join(datadir, 'shared1000_HED.tsv'), sep='\\t')\n",
    "targets = ['animal']\n",
    "\n",
    "mask = labels[\"HED_short\"].str.lower().apply(\n",
    "    lambda x: all(t in x for t in targets) if isinstance(x, str) else False\n",
    ")\n",
    "to_idx = labels[mask].index.tolist()\n",
    "\n",
    "metric = 'correlation'\n",
    "roi = 'MF1_9_F' #'MF1_9_F'\n",
    "roi_data = raster_data[(raster_data['roi']==roi)]\n",
    "stacked = np.stack(roi_data['img_psth'])\n",
    "\n",
    "substacked = stacked[:, :, to_idx]\n",
    "# average over units\n",
    "averaged = np.mean(substacked, axis=0)\n",
    "\n",
    "fig,ax = plt.subplots(1,1)\n",
    "\n",
    "rdm = squareform(pdist(averaged, metric=metric))\n",
    "sns.heatmap(rdm, cmap=sns.color_palette('Greys_r', as_cmap=True), vmax=1.5)\n",
    "ax.set_title(f'{roi}: {'.'.join(targets)}')\n",
    "\n",
    "ax.axvline(x=50, color='red', linestyle='--', linewidth=1)\n",
    "ax.axhline(y=50, color='red', linestyle='--', linewidth=1)\n",
    "plt.show()"
   ]
  },
  {
   "cell_type": "code",
   "execution_count": null,
   "id": "3",
   "metadata": {
    "tags": []
   },
   "outputs": [],
   "source": [
    "raster_data['session'].unique()"
   ]
  },
  {
   "cell_type": "code",
   "execution_count": null,
   "id": "4",
   "metadata": {
    "tags": []
   },
   "outputs": [],
   "source": [
    "single_units = raster_data[raster_data['unit_type']==1]\n",
    "stacked = np.stack(single_units['img_psth'])\n",
    "mean_per_unit = stacked.mean(axis=2)\n",
    "\n",
    "df_long = pd.DataFrame(mean_per_unit).melt(var_name='time', value_name='response')\n",
    "df_long['unit'] = np.repeat(np.arange(mean_per_unit.shape[0]), mean_per_unit.shape[1])\n",
    "\n",
    "plt.subplots(1,1)\n",
    "sns.lineplot(data=df_long, x='time', y='response', errorbar='sd', color='black')\n",
    "plt.title('Single unit average time trace')\n",
    "plt.tight_layout()\n",
    "plt.show()"
   ]
  },
  {
   "cell_type": "code",
   "execution_count": null,
   "id": "5",
   "metadata": {
    "tags": []
   },
   "outputs": [],
   "source": [
    "roi = 'MF1_8_F' #'MF1_9_F'\n",
    "roi_data = raster_data[(raster_data['roi']==roi)]\n",
    "\n",
    "stacked = np.stack(roi_data['img_psth'])\n",
    "averaged = np.mean(stacked, axis=0) # shape (450,1072)\n",
    "df = pd.DataFrame(averaged)  # shape (450, 1072)\n",
    "df_long = df.melt(var_name='image', value_name='response')\n",
    "df_long['time'] = np.tile(np.arange(df.shape[0]), df.shape[1])\n",
    "\n",
    "\n",
    "\n",
    "fig,ax=plt.subplots(1,1)\n",
    "sns.lineplot(\n",
    "    data=df_long, x='time', y='response',\n",
    "    errorbar='sd',\n",
    "    color='black',\n",
    "    ax=ax\n",
    ")\n",
    "ax.axvline(x=50, color='red', linestyle='--', linewidth=1)\n",
    "plt.title('Average PSTH')\n",
    "plt.tight_layout()\n",
    "plt.show()"
   ]
  },
  {
   "cell_type": "code",
   "execution_count": null,
   "id": "6",
   "metadata": {
    "tags": []
   },
   "outputs": [],
   "source": []
  },
  {
   "cell_type": "code",
   "execution_count": null,
   "id": "7",
   "metadata": {
    "tags": []
   },
   "outputs": [],
   "source": [
    "np.setdiff1d(np.arange(1000, 1072), np.concatenate([np.arange(1000,1024), np.arange(1025,1031), np.arange(1043,1049), np.arange(1051,1062)]))"
   ]
  },
  {
   "cell_type": "code",
   "execution_count": null,
   "id": "8",
   "metadata": {
    "tags": []
   },
   "outputs": [],
   "source": [
    "img_sets = {'all images': np.arange(1000,1072), \n",
    "           'all faces': np.arange(1000,1024),\n",
    "           'monkey faces':  np.concatenate([np.arange(1000,1006), np.arange(1009,1016)]),\n",
    "           'human faces': np.concatenate([np.arange(1006,1009), np.arange(1016,1025)])}\n",
    "\n",
    "# img_sets = {'all images': np.arange(1000,1072), \n",
    "#            'all nonfaces': np.arange(1025,1072),\n",
    "#            'monkey bodies': np.concatenate([np.arange(1026,1031), np.arange(1043,1049)]),\n",
    "#            'animal bodies': np.concatenate([np.arange(1026,1031), np.arange(1043,1049), np.arange(1051,1062)]),\n",
    "#            'all objects': np.setdiff1d(np.arange(1000, 1072), np.concatenate([np.arange(1000,1024), np.arange(1025,1031), np.arange(1043,1049), np.arange(1051,1062)]))}\n",
    "\n",
    "metric = 'correlation'\n",
    "roi = 'MF1_8_F' #'MF1_9_F'\n",
    "roi_data = raster_data[(raster_data['roi']==roi)]\n",
    "stacked = np.stack(roi_data['img_psth'])\n",
    "\n",
    "for k,v in img_sets.items():\n",
    "    substacked = stacked[:, :, v]\n",
    "    # average over units\n",
    "    averaged = np.mean(substacked, axis=0)\n",
    "    \n",
    "    fig,ax = plt.subplots(1,1)\n",
    "\n",
    "    # plot rdm\n",
    "    rdm = squareform(pdist(averaged, metric=metric))\n",
    "    sns.heatmap(rdm, cmap=sns.color_palette('Greys_r', as_cmap=True), vmax=1.5)\n",
    "    ax.set_title(f'{k}')\n",
    "\n",
    "    ax.axvline(x=50, color='red', linestyle='--', linewidth=1)\n",
    "    ax.axhline(y=50, color='red', linestyle='--', linewidth=1)\n",
    "    plt.show()\n",
    "\n",
    "    # Embed into 3D and plot trajectory\n",
    "    mds = MDS(n_components=3, dissimilarity='precomputed', random_state=0)\n",
    "    coords = mds.fit_transform(rdm)               # [time, 3]\n",
    "    T = coords.shape[0]\n",
    "    ts = np.arange(T)\n",
    "\n",
    "    # 3D plot\n",
    "    fig = plt.figure(figsize=(6,5))\n",
    "    # ax = fig.add_subplot()\n",
    "    ax = fig.add_subplot(111, projection='3d')\n",
    "\n",
    "    # Draw trajectory line\n",
    "    ax.plot(coords[:,0], coords[:,1], coords[:,2], \n",
    "            linewidth=1)\n",
    "\n",
    "    # Scatter with time-coded colors\n",
    "    sc = ax.scatter(coords[:,0], coords[:,1], coords[:,2],\n",
    "                    c=ts, cmap='viridis', s=12)\n",
    "\n",
    "    # Optional: highlight a particular time (e.g., 50)\n",
    "    t_mark = np.arange(90, 140)\n",
    "    if (t_mark < T).all:\n",
    "        ax.scatter(coords[t_mark,0], coords[t_mark,1], coords[t_mark,2],\n",
    "                   s=80, edgecolor='red', facecolor='none')\n",
    "\n",
    "    ax.set_title(f\"3D trajectory – {k}\")\n",
    "    ax.set_xlabel(\"MDS-1\"); ax.set_ylabel(\"MDS-2\"); ax.set_zlabel(\"MDS-3\")\n",
    "    cbar = plt.colorbar(sc, ax=ax, pad=0.1)\n",
    "    cbar.set_label(\"Time index\")\n",
    "\n",
    "    plt.tight_layout()\n",
    "    plt.show()"
   ]
  },
  {
   "cell_type": "code",
   "execution_count": null,
   "id": "9",
   "metadata": {
    "tags": []
   },
   "outputs": [],
   "source": [
    "metric = 'correlation'\n",
    "roi = 'MF1_8_F' #'MF1_9_F'\n",
    "roi_data = raster_data[(raster_data['roi']==roi)]\n",
    "stacked = np.stack(roi_data['img_psth'])\n",
    "\n",
    "for k,v in img_sets.items():\n",
    "    substacked = stacked[:, :, v]\n",
    "    # average over units\n",
    "    X = np.mean(substacked, axis=0)\n",
    "    \n",
    "    Xz = X - X.mean(axis=1, keepdims=True)\n",
    "    Xz /= (np.linalg.norm(Xz, axis=1, keepdims=True) + 1e-8)\n",
    "    pcaZ = PCA(n_components=3, random_state=0).fit(Xz)\n",
    "    print(f\"{k} - After demeaning+unit-norm EVR: {pcaZ.explained_variance_ratio_[:3]} | cumulative: {np.sum(pcaZ.explained_variance_ratio_[:3])}\")\n",
    "    coords = pcaZ.fit_transform(Xz)\n",
    "    \n",
    "#     # do pca on the data\n",
    "#     pca = PCA(n_components=3, random_state=0)\n",
    "#     coords = pca.fit_transform(averaged) \n",
    "    \n",
    "    evr = pca.explained_variance_ratio_\n",
    "    cum = evr.cumsum()\n",
    "    print(f\"{k} — EVR per comp: {np.round(evr, 3)} | cumulative: {np.round(cum, 3)}\")\n",
    "\n",
    "    T = coords.shape[0]\n",
    "    ts = np.arange(T)\n",
    "\n",
    "    # 3D plot\n",
    "    fig = plt.figure(figsize=(6,5))\n",
    "    ax = fig.add_subplot(111, projection='3d')\n",
    "\n",
    "    # Draw trajectory line\n",
    "    ax.plot(coords[:,0], coords[:,1], coords[:,2], \n",
    "            linewidth=1)\n",
    "\n",
    "    # Scatter with time-coded colors\n",
    "    sc = ax.scatter(coords[:,0], coords[:,1], coords[:,2],\n",
    "                    c=ts, cmap='viridis', s=12)\n",
    "\n",
    "    # Optional: highlight a particular time (e.g., 50)\n",
    "    t_mark = np.arange(90, 140)\n",
    "    if (t_mark < T).all:\n",
    "        ax.scatter(coords[t_mark,0], coords[t_mark,1], coords[t_mark,2],\n",
    "                   s=80, edgecolor='red', facecolor='none')\n",
    "\n",
    "    ax.set_title(f\"3D trajectory – {k}\")\n",
    "    ax.set_xlabel(\"PC-1\"); ax.set_ylabel(\"PC-2\"); ax.set_zlabel(\"PC-3\")\n",
    "    cbar = plt.colorbar(sc, ax=ax, pad=0.1)\n",
    "    cbar.set_label(\"Time index\")\n",
    "\n",
    "    plt.tight_layout()\n",
    "    plt.show()"
   ]
  },
  {
   "cell_type": "code",
   "execution_count": null,
   "id": "10",
   "metadata": {
    "tags": []
   },
   "outputs": [],
   "source": [
    "from IPython.display import clear_output\n",
    "import time\n",
    "\n",
    "metric = 'correlation'\n",
    "roi = 'MF1_7_F' #'MF1_9_F'\n",
    "roi_data = raster_data[(raster_data['roi']==roi)]\n",
    "stacked = np.stack(roi_data['img_psth'])\n",
    "\n",
    "for i in range(200):\n",
    "    fig, ax = plt.subplots(1,1)\n",
    "    substacked = stacked[:, i, 1000:1024]\n",
    "    rdm = squareform(pdist(substacked.T, metric=metric))\n",
    "    sns.heatmap(rdm, cmap=sns.color_palette('Greys_r', as_cmap=True), vmax=0.75, ax=ax)\n",
    "    ax.set_title(f't={i}')\n",
    "    \n",
    "    ax.axvline(x=15, color='red', linestyle='--', linewidth=1)\n",
    "    ax.axhline(y=15, color='red', linestyle='--', linewidth=1)\n",
    "    ax.axvline(x=24, color='red', linestyle='--', linewidth=1)\n",
    "    ax.axhline(y=24, color='red', linestyle='--', linewidth=1)\n",
    "    \n",
    "    plt.show()\n",
    "    time.sleep(0.01)\n",
    "    clear_output(wait=True)"
   ]
  },
  {
   "cell_type": "code",
   "execution_count": null,
   "id": "11",
   "metadata": {
    "tags": []
   },
   "outputs": [],
   "source": [
    "savedir = '../gifs/localizer_set/'\n",
    "if not os.path.exists(savedir):\n",
    "    os.makedirs(savedir)\n",
    "    \n",
    "metric = 'correlation'\n",
    "    \n",
    "roi = 'MF1_7_F' #'MF1_9_F'\n",
    "roi_data = raster_data[(raster_data['roi']==roi)]\n",
    "stacked = np.stack(roi_data['img_psth'])\n",
    "    \n",
    "for i in tqdm(range(200)):\n",
    "    fig, ax = plt.subplots()\n",
    "    substacked = stacked[:, i, 1000:1024]\n",
    "    rdm = squareform(pdist(substacked.T, metric=metric))\n",
    "    sns.heatmap(rdm, cmap=sns.color_palette('Greys_r', as_cmap=True), vmax=0.75, ax=ax)\n",
    "    ax.set_title(f't={i}')\n",
    "    plt.tight_layout()\n",
    "    plt.savefig(os.path.join(savedir,f'frame_{i:03d}.png'), dpi=300, transparent=False, bbox_inches='tight')\n",
    "    plt.close(fig)\n",
    "    \n",
    "print('done')"
   ]
  }
 ],
 "metadata": {
  "kernelspec": {
   "display_name": "Python [conda env:dynamics]",
   "language": "python",
   "name": "conda-env-dynamics-py"
  },
  "language_info": {
   "codemirror_mode": {
    "name": "ipython",
    "version": 3
   },
   "file_extension": ".py",
   "mimetype": "text/x-python",
   "name": "python",
   "nbconvert_exporter": "python",
   "pygments_lexer": "ipython3",
   "version": "3.13.7"
  }
 },
 "nbformat": 4,
 "nbformat_minor": 5
}
